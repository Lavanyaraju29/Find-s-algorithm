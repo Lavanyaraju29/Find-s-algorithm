{
 "cells": [
  {
   "cell_type": "code",
   "execution_count": 1,
   "id": "61b1d7fa-beec-420a-8257-4603f7f7fd56",
   "metadata": {},
   "outputs": [],
   "source": [
    "\n",
    "import pandas as pd\n",
    "import numpy as np"
   ]
  },
  {
   "cell_type": "code",
   "execution_count": 2,
   "id": "1d1f5cd0-4490-44fa-8c5f-eb039c0a745b",
   "metadata": {},
   "outputs": [],
   "source": [
    "\n",
    "data = pd.read_csv('data.csv')"
   ]
  },
  {
   "cell_type": "code",
   "execution_count": 3,
   "id": "b5de43d3-67ad-4a71-b90f-c4baca26c48e",
   "metadata": {},
   "outputs": [
    {
     "data": {
      "text/html": [
       "<div>\n",
       "<style scoped>\n",
       "    .dataframe tbody tr th:only-of-type {\n",
       "        vertical-align: middle;\n",
       "    }\n",
       "\n",
       "    .dataframe tbody tr th {\n",
       "        vertical-align: top;\n",
       "    }\n",
       "\n",
       "    .dataframe thead th {\n",
       "        text-align: right;\n",
       "    }\n",
       "</style>\n",
       "<table border=\"1\" class=\"dataframe\">\n",
       "  <thead>\n",
       "    <tr style=\"text-align: right;\">\n",
       "      <th></th>\n",
       "      <th>outlook</th>\n",
       "      <th>temp</th>\n",
       "      <th>humidity</th>\n",
       "      <th>windy</th>\n",
       "      <th>water</th>\n",
       "      <th>forecast</th>\n",
       "      <th>play_tennis</th>\n",
       "    </tr>\n",
       "  </thead>\n",
       "  <tbody>\n",
       "    <tr>\n",
       "      <th>0</th>\n",
       "      <td>sunny</td>\n",
       "      <td>hot</td>\n",
       "      <td>high</td>\n",
       "      <td>strong</td>\n",
       "      <td>warm</td>\n",
       "      <td>same</td>\n",
       "      <td>yes</td>\n",
       "    </tr>\n",
       "    <tr>\n",
       "      <th>1</th>\n",
       "      <td>sunny</td>\n",
       "      <td>hot</td>\n",
       "      <td>high</td>\n",
       "      <td>strong</td>\n",
       "      <td>warm</td>\n",
       "      <td>same</td>\n",
       "      <td>yes</td>\n",
       "    </tr>\n",
       "    <tr>\n",
       "      <th>2</th>\n",
       "      <td>rainy</td>\n",
       "      <td>mild</td>\n",
       "      <td>high</td>\n",
       "      <td>strong</td>\n",
       "      <td>warm</td>\n",
       "      <td>change</td>\n",
       "      <td>no</td>\n",
       "    </tr>\n",
       "    <tr>\n",
       "      <th>3</th>\n",
       "      <td>sunny</td>\n",
       "      <td>mild</td>\n",
       "      <td>normal</td>\n",
       "      <td>strong</td>\n",
       "      <td>warm</td>\n",
       "      <td>change</td>\n",
       "      <td>yes</td>\n",
       "    </tr>\n",
       "    <tr>\n",
       "      <th>4</th>\n",
       "      <td>sunny</td>\n",
       "      <td>hot</td>\n",
       "      <td>high</td>\n",
       "      <td>strong</td>\n",
       "      <td>cool</td>\n",
       "      <td>same</td>\n",
       "      <td>yes</td>\n",
       "    </tr>\n",
       "  </tbody>\n",
       "</table>\n",
       "</div>"
      ],
      "text/plain": [
       "  outlook  temp humidity   windy water forecast play_tennis\n",
       "0   sunny   hot     high  strong  warm     same         yes\n",
       "1   sunny   hot     high  strong  warm     same         yes\n",
       "2   rainy  mild     high  strong  warm   change          no\n",
       "3   sunny  mild   normal  strong  warm   change         yes\n",
       "4   sunny   hot     high  strong  cool     same         yes"
      ]
     },
     "execution_count": 3,
     "metadata": {},
     "output_type": "execute_result"
    }
   ],
   "source": [
    "data"
   ]
  },
  {
   "cell_type": "code",
   "execution_count": 4,
   "id": "1581240c-2b8b-4bd6-97a2-b9f9fb52bdef",
   "metadata": {},
   "outputs": [
    {
     "data": {
      "text/html": [
       "<div>\n",
       "<style scoped>\n",
       "    .dataframe tbody tr th:only-of-type {\n",
       "        vertical-align: middle;\n",
       "    }\n",
       "\n",
       "    .dataframe tbody tr th {\n",
       "        vertical-align: top;\n",
       "    }\n",
       "\n",
       "    .dataframe thead th {\n",
       "        text-align: right;\n",
       "    }\n",
       "</style>\n",
       "<table border=\"1\" class=\"dataframe\">\n",
       "  <thead>\n",
       "    <tr style=\"text-align: right;\">\n",
       "      <th></th>\n",
       "      <th>outlook</th>\n",
       "      <th>temp</th>\n",
       "      <th>humidity</th>\n",
       "      <th>windy</th>\n",
       "      <th>water</th>\n",
       "      <th>forecast</th>\n",
       "      <th>play_tennis</th>\n",
       "    </tr>\n",
       "  </thead>\n",
       "  <tbody>\n",
       "    <tr>\n",
       "      <th>0</th>\n",
       "      <td>sunny</td>\n",
       "      <td>hot</td>\n",
       "      <td>high</td>\n",
       "      <td>strong</td>\n",
       "      <td>warm</td>\n",
       "      <td>same</td>\n",
       "      <td>yes</td>\n",
       "    </tr>\n",
       "    <tr>\n",
       "      <th>1</th>\n",
       "      <td>sunny</td>\n",
       "      <td>hot</td>\n",
       "      <td>high</td>\n",
       "      <td>strong</td>\n",
       "      <td>warm</td>\n",
       "      <td>same</td>\n",
       "      <td>yes</td>\n",
       "    </tr>\n",
       "    <tr>\n",
       "      <th>2</th>\n",
       "      <td>rainy</td>\n",
       "      <td>mild</td>\n",
       "      <td>high</td>\n",
       "      <td>strong</td>\n",
       "      <td>warm</td>\n",
       "      <td>change</td>\n",
       "      <td>no</td>\n",
       "    </tr>\n",
       "    <tr>\n",
       "      <th>3</th>\n",
       "      <td>sunny</td>\n",
       "      <td>mild</td>\n",
       "      <td>normal</td>\n",
       "      <td>strong</td>\n",
       "      <td>warm</td>\n",
       "      <td>change</td>\n",
       "      <td>yes</td>\n",
       "    </tr>\n",
       "    <tr>\n",
       "      <th>4</th>\n",
       "      <td>sunny</td>\n",
       "      <td>hot</td>\n",
       "      <td>high</td>\n",
       "      <td>strong</td>\n",
       "      <td>cool</td>\n",
       "      <td>same</td>\n",
       "      <td>yes</td>\n",
       "    </tr>\n",
       "  </tbody>\n",
       "</table>\n",
       "</div>"
      ],
      "text/plain": [
       "  outlook  temp humidity   windy water forecast play_tennis\n",
       "0   sunny   hot     high  strong  warm     same         yes\n",
       "1   sunny   hot     high  strong  warm     same         yes\n",
       "2   rainy  mild     high  strong  warm   change          no\n",
       "3   sunny  mild   normal  strong  warm   change         yes\n",
       "4   sunny   hot     high  strong  cool     same         yes"
      ]
     },
     "execution_count": 4,
     "metadata": {},
     "output_type": "execute_result"
    }
   ],
   "source": [
    "data.head()"
   ]
  },
  {
   "cell_type": "code",
   "execution_count": 5,
   "id": "fa5e873b-3e3f-4df3-a163-a85340e4b10f",
   "metadata": {},
   "outputs": [
    {
     "data": {
      "text/plain": [
       "(5, 7)"
      ]
     },
     "execution_count": 5,
     "metadata": {},
     "output_type": "execute_result"
    }
   ],
   "source": [
    "data.shape"
   ]
  },
  {
   "cell_type": "code",
   "execution_count": 6,
   "id": "aef733bd-7f5b-4f4c-99b4-cf2d42c7b1e7",
   "metadata": {},
   "outputs": [],
   "source": [
    "concepts = np.array(data)[:,:-1]"
   ]
  },
  {
   "cell_type": "code",
   "execution_count": 7,
   "id": "0d438dfe-8587-4d12-ba39-0575619d899e",
   "metadata": {},
   "outputs": [
    {
     "data": {
      "text/plain": [
       "array([['sunny', 'hot', 'high', 'strong', 'warm', 'same'],\n",
       "       ['sunny', 'hot', 'high', 'strong', 'warm', 'same'],\n",
       "       ['rainy', 'mild', 'high', 'strong', 'warm', 'change'],\n",
       "       ['sunny', 'mild', 'normal', 'strong', 'warm', 'change'],\n",
       "       ['sunny', 'hot', 'high', 'strong', 'cool', 'same']], dtype=object)"
      ]
     },
     "execution_count": 7,
     "metadata": {},
     "output_type": "execute_result"
    }
   ],
   "source": [
    "concepts"
   ]
  },
  {
   "cell_type": "code",
   "execution_count": 10,
   "id": "183fc2f5-18ad-4cf7-bb85-4d72d5566884",
   "metadata": {},
   "outputs": [
    {
     "name": "stdout",
     "output_type": "stream",
     "text": [
      "outlook : ['sunny' 'rainy']\n",
      "temp : ['hot' 'mild']\n",
      "humidity : ['high' 'normal']\n",
      "windy : ['strong']\n",
      "water : ['warm' 'cool']\n",
      "forecast : ['same' 'change']\n",
      "play_tennis : ['yes' 'no']\n"
     ]
    }
   ],
   "source": [
    "for i in data.columns:\n",
    "    print(f'{i} : {data[i].unique()}')"
   ]
  },
  {
   "cell_type": "code",
   "execution_count": 15,
   "id": "14c2e58f-84d0-4d9c-84a3-dd574b815594",
   "metadata": {},
   "outputs": [],
   "source": [
    "result=data['play_tennis'].values"
   ]
  },
  {
   "cell_type": "code",
   "execution_count": 17,
   "id": "62200a5a-6fe3-4395-974b-540490c50f4e",
   "metadata": {},
   "outputs": [],
   "source": [
    "attributes=data.drop('play_tennis',axis=1).values"
   ]
  },
  {
   "cell_type": "code",
   "execution_count": 18,
   "id": "efbd6d88-5d9d-479f-a9a5-fb51bb87bf8d",
   "metadata": {},
   "outputs": [],
   "source": [
    "H=['0']*attributes.shape[1]"
   ]
  },
  {
   "cell_type": "code",
   "execution_count": 19,
   "id": "da5539ba-d487-40ca-9c6e-5f9f8b954fe7",
   "metadata": {},
   "outputs": [
    {
     "name": "stdout",
     "output_type": "stream",
     "text": [
      "Initial Hypothesis is : ['0', '0', '0', '0', '0', '0']\n"
     ]
    }
   ],
   "source": [
    "print(f'Initial Hypothesis is : {H}')"
   ]
  },
  {
   "cell_type": "code",
   "execution_count": 20,
   "id": "b3779c49-6716-4d09-a700-55bdf18ac8fb",
   "metadata": {},
   "outputs": [],
   "source": [
    "target = np.array(data)[:,-1]"
   ]
  },
  {
   "cell_type": "code",
   "execution_count": 21,
   "id": "4aa99304-1823-4ccf-be29-2bf58c13852a",
   "metadata": {},
   "outputs": [
    {
     "data": {
      "text/plain": [
       "array(['yes', 'yes', 'no', 'yes', 'yes'], dtype=object)"
      ]
     },
     "execution_count": 21,
     "metadata": {},
     "output_type": "execute_result"
    }
   ],
   "source": [
    "target"
   ]
  },
  {
   "cell_type": "code",
   "execution_count": 22,
   "id": "c7a944f8-dc75-499d-85aa-5c7619593ebc",
   "metadata": {},
   "outputs": [
    {
     "name": "stdout",
     "output_type": "stream",
     "text": [
      "For Step-0 : ['sunny', 'hot', 'high', 'strong', 'warm', 'same']\n",
      "For Step-1 : ['sunny', 'hot', 'high', 'strong', 'warm', 'same']\n",
      "For Step-2 : ['sunny', 'hot', 'high', 'strong', 'warm', 'same']\n",
      "For Step-3 : ['sunny', '?', '?', 'strong', 'warm', '?']\n",
      "For Step-4 : ['sunny', '?', '?', 'strong', '?', '?']\n"
     ]
    }
   ],
   "source": [
    "\n",
    "for i in range(attributes.shape[0]):\n",
    "    if result[i]=='yes':\n",
    "        for j in range(attributes.shape[1]):\n",
    "            if H[j]=='0':\n",
    "                H[j]=attributes[i][j]\n",
    "            elif H[j]!=attributes[i][j]:\n",
    "                H[j]='?'\n",
    "    print(f'For Step-{i} : {H}')"
   ]
  },
  {
   "cell_type": "code",
   "execution_count": 23,
   "id": "3167b7d4-afdf-4240-bcfc-3df6f45374be",
   "metadata": {},
   "outputs": [
    {
     "name": "stdout",
     "output_type": "stream",
     "text": [
      "Final Hypothesis is : ['sunny', '?', '?', 'strong', '?', '?']\n"
     ]
    }
   ],
   "source": [
    "print(f'Final Hypothesis is : {H}')"
   ]
  },
  {
   "cell_type": "code",
   "execution_count": null,
   "id": "13510c30-2c1e-4171-bd0e-337e28b7b152",
   "metadata": {},
   "outputs": [],
   "source": []
  }
 ],
 "metadata": {
  "kernelspec": {
   "display_name": "Python 3 (ipykernel)",
   "language": "python",
   "name": "python3"
  },
  "language_info": {
   "codemirror_mode": {
    "name": "ipython",
    "version": 3
   },
   "file_extension": ".py",
   "mimetype": "text/x-python",
   "name": "python",
   "nbconvert_exporter": "python",
   "pygments_lexer": "ipython3",
   "version": "3.11.7"
  }
 },
 "nbformat": 4,
 "nbformat_minor": 5
}
